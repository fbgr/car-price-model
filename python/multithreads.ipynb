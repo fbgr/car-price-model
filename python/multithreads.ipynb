{
 "cells": [
  {
   "cell_type": "code",
   "execution_count": 1,
   "id": "67dac755",
   "metadata": {},
   "outputs": [],
   "source": [
    "from threading import Thread"
   ]
  },
  {
   "cell_type": "code",
   "execution_count": 2,
   "id": "a2286daf",
   "metadata": {},
   "outputs": [],
   "source": [
    "def func_4_thread(n_max: int = 1_000_000) -> None:\n",
    "    n = 0\n",
    "    while n < n_max:\n",
    "        n += 1"
   ]
  },
  {
   "cell_type": "code",
   "execution_count": 3,
   "id": "a6f0e9e5",
   "metadata": {},
   "outputs": [],
   "source": [
    "my_thread = Thread(target=func_4_thread, args=(5_000,))\n"
   ]
  },
  {
   "cell_type": "code",
   "execution_count": 4,
   "id": "8c61c4f9",
   "metadata": {},
   "outputs": [],
   "source": [
    "my_thread.start()"
   ]
  },
  {
   "cell_type": "code",
   "execution_count": 18,
   "id": "a8471e1f",
   "metadata": {},
   "outputs": [],
   "source": [
    "import numpy as np"
   ]
  },
  {
   "cell_type": "code",
   "execution_count": 19,
   "id": "d06ee941",
   "metadata": {},
   "outputs": [],
   "source": [
    "from time import sleep"
   ]
  },
  {
   "cell_type": "code",
   "execution_count": 22,
   "id": "38ede0ac",
   "metadata": {},
   "outputs": [
    {
     "name": "stdout",
     "output_type": "stream",
     "text": [
      "Failedecting, attempt  2                                                        \n"
     ]
    }
   ],
   "source": [
    "tries = 0\n",
    "while True:\n",
    "    try:\n",
    "        1+'1'\n",
    "        break\n",
    "                    \n",
    "    except:\n",
    "        if tries >= 2:\n",
    "            print('Failed')\n",
    "            break\n",
    "        tries += 1\n",
    "        print('                                                                                ',end='\\r')\n",
    "        print('Reconnecting, attempt ',tries,end='\\r')\n",
    "        sleep(abs(np.random.normal(1+2,0.15)))\n",
    "        continue\n",
    "    "
   ]
  },
  {
   "cell_type": "code",
   "execution_count": null,
   "id": "e1c74e67",
   "metadata": {},
   "outputs": [],
   "source": []
  }
 ],
 "metadata": {
  "kernelspec": {
   "display_name": "Python 3 (ipykernel)",
   "language": "python",
   "name": "python3"
  },
  "language_info": {
   "codemirror_mode": {
    "name": "ipython",
    "version": 3
   },
   "file_extension": ".py",
   "mimetype": "text/x-python",
   "name": "python",
   "nbconvert_exporter": "python",
   "pygments_lexer": "ipython3",
   "version": "3.9.13"
  }
 },
 "nbformat": 4,
 "nbformat_minor": 5
}
