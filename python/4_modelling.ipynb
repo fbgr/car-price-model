{
 "cells": [
  {
   "cell_type": "markdown",
   "id": "bd27bd55",
   "metadata": {},
   "source": [
    "# 4. Modelling"
   ]
  },
  {
   "cell_type": "markdown",
   "id": "899e7a61",
   "metadata": {},
   "source": [
    "## 4.1 Importing useful libraries & functions"
   ]
  },
  {
   "cell_type": "code",
   "execution_count": 1,
   "id": "7b2713fe",
   "metadata": {},
   "outputs": [],
   "source": [
    "import os\n",
    "os.environ['TF_CPP_MIN_LOG_LEVEL'] = '3'\n",
    "import pandas as pd\n",
    "import numpy as np\n",
    "\n",
    "# processing\n",
    "from sklearn.preprocessing import StandardScaler\n",
    "from sklearn.model_selection import train_test_split\n",
    "from sklearn.preprocessing import OneHotEncoder\n",
    "\n",
    "# modelling\n",
    "from sklearn.linear_model import LinearRegression\n",
    "from sklearn.neighbors import KNeighborsRegressor\n",
    "from sklearn.tree import DecisionTreeRegressor\n",
    "from sklearn.ensemble import RandomForestRegressor\n",
    "from xgboost import XGBRegressor\n",
    "import tensorflow as tf\n",
    "from tensorflow.keras.models import Sequential\n",
    "from tensorflow.keras.layers import Dense\n",
    "from tensorflow.keras.losses import MeanSquaredError\n",
    "from tensorflow.keras.regularizers import L2\n",
    "from sklearn.model_selection import cross_val_score\n",
    "from sklearn.model_selection import KFold\n",
    "from sklearn.model_selection import RandomizedSearchCV\n",
    "# evaluating\n",
    "from sklearn.metrics import mean_squared_error, r2_score"
   ]
  },
  {
   "cell_type": "code",
   "execution_count": 2,
   "id": "601880ac",
   "metadata": {},
   "outputs": [
    {
     "data": {
      "text/plain": [
       "[PhysicalDevice(name='/physical_device:GPU:0', device_type='GPU')]"
      ]
     },
     "execution_count": 2,
     "metadata": {},
     "output_type": "execute_result"
    }
   ],
   "source": [
    "tf.config.list_physical_devices('GPU')"
   ]
  },
  {
   "cell_type": "markdown",
   "id": "fd1a3069",
   "metadata": {},
   "source": [
    "## 4.2 Reading data"
   ]
  },
  {
   "cell_type": "code",
   "execution_count": 3,
   "id": "7a6436f6",
   "metadata": {},
   "outputs": [],
   "source": [
    "cars = pd.read_csv('../data/clean_cars.csv')"
   ]
  },
  {
   "cell_type": "code",
   "execution_count": 4,
   "id": "628af2a6",
   "metadata": {},
   "outputs": [
    {
     "data": {
      "text/html": [
       "<div>\n",
       "<style scoped>\n",
       "    .dataframe tbody tr th:only-of-type {\n",
       "        vertical-align: middle;\n",
       "    }\n",
       "\n",
       "    .dataframe tbody tr th {\n",
       "        vertical-align: top;\n",
       "    }\n",
       "\n",
       "    .dataframe thead th {\n",
       "        text-align: right;\n",
       "    }\n",
       "</style>\n",
       "<table border=\"1\" class=\"dataframe\">\n",
       "  <thead>\n",
       "    <tr style=\"text-align: right;\">\n",
       "      <th></th>\n",
       "      <th>year</th>\n",
       "      <th>cv</th>\n",
       "      <th>km</th>\n",
       "      <th>fuel</th>\n",
       "      <th>doors</th>\n",
       "      <th>gearbox</th>\n",
       "      <th>color</th>\n",
       "      <th>brand</th>\n",
       "      <th>price</th>\n",
       "      <th>boot</th>\n",
       "      <th>...</th>\n",
       "      <th>seats</th>\n",
       "      <th>cmixto</th>\n",
       "      <th>0-100</th>\n",
       "      <th>displac</th>\n",
       "      <th>cylinders</th>\n",
       "      <th>max_par</th>\n",
       "      <th>gear</th>\n",
       "      <th>class</th>\n",
       "      <th>location</th>\n",
       "      <th>area</th>\n",
       "    </tr>\n",
       "  </thead>\n",
       "  <tbody>\n",
       "    <tr>\n",
       "      <th>0</th>\n",
       "      <td>6</td>\n",
       "      <td>326</td>\n",
       "      <td>94000</td>\n",
       "      <td>gasolina</td>\n",
       "      <td>2</td>\n",
       "      <td>automatic</td>\n",
       "      <td>blanco</td>\n",
       "      <td>bmw</td>\n",
       "      <td>35900</td>\n",
       "      <td>445</td>\n",
       "      <td>...</td>\n",
       "      <td>4</td>\n",
       "      <td>6.6</td>\n",
       "      <td>5.0</td>\n",
       "      <td>2998</td>\n",
       "      <td>less4 inline</td>\n",
       "      <td>450</td>\n",
       "      <td>8</td>\n",
       "      <td>sport</td>\n",
       "      <td>rioja+la</td>\n",
       "      <td>84912</td>\n",
       "    </tr>\n",
       "    <tr>\n",
       "      <th>1</th>\n",
       "      <td>2</td>\n",
       "      <td>252</td>\n",
       "      <td>29187</td>\n",
       "      <td>gasolina</td>\n",
       "      <td>2</td>\n",
       "      <td>manual</td>\n",
       "      <td>blanco</td>\n",
       "      <td>other</td>\n",
       "      <td>65450</td>\n",
       "      <td>100</td>\n",
       "      <td>...</td>\n",
       "      <td>2</td>\n",
       "      <td>6.4</td>\n",
       "      <td>4.5</td>\n",
       "      <td>1798</td>\n",
       "      <td>4 inline</td>\n",
       "      <td>320</td>\n",
       "      <td>7</td>\n",
       "      <td>sport</td>\n",
       "      <td>rioja+la</td>\n",
       "      <td>75240</td>\n",
       "    </tr>\n",
       "    <tr>\n",
       "      <th>2</th>\n",
       "      <td>4</td>\n",
       "      <td>150</td>\n",
       "      <td>40012</td>\n",
       "      <td>gasolina</td>\n",
       "      <td>5</td>\n",
       "      <td>manual</td>\n",
       "      <td>rojo</td>\n",
       "      <td>renault</td>\n",
       "      <td>20950</td>\n",
       "      <td>377</td>\n",
       "      <td>...</td>\n",
       "      <td>5</td>\n",
       "      <td>5.6</td>\n",
       "      <td>9.9</td>\n",
       "      <td>1333</td>\n",
       "      <td>4 inline</td>\n",
       "      <td>220</td>\n",
       "      <td>6</td>\n",
       "      <td>4x4</td>\n",
       "      <td>rioja+la</td>\n",
       "      <td>73336</td>\n",
       "    </tr>\n",
       "    <tr>\n",
       "      <th>3</th>\n",
       "      <td>14</td>\n",
       "      <td>224</td>\n",
       "      <td>329000</td>\n",
       "      <td>diesel</td>\n",
       "      <td>5</td>\n",
       "      <td>automatic</td>\n",
       "      <td>negro</td>\n",
       "      <td>mercedes</td>\n",
       "      <td>10900</td>\n",
       "      <td>450</td>\n",
       "      <td>...</td>\n",
       "      <td>5</td>\n",
       "      <td>7.9</td>\n",
       "      <td>7.5</td>\n",
       "      <td>2987</td>\n",
       "      <td>6 V</td>\n",
       "      <td>540</td>\n",
       "      <td>7</td>\n",
       "      <td>4x4</td>\n",
       "      <td>rioja+la</td>\n",
       "      <td>84258</td>\n",
       "    </tr>\n",
       "    <tr>\n",
       "      <th>4</th>\n",
       "      <td>1</td>\n",
       "      <td>90</td>\n",
       "      <td>5450</td>\n",
       "      <td>gasolina</td>\n",
       "      <td>5</td>\n",
       "      <td>manual</td>\n",
       "      <td>naranja</td>\n",
       "      <td>renault</td>\n",
       "      <td>23450</td>\n",
       "      <td>536</td>\n",
       "      <td>...</td>\n",
       "      <td>5</td>\n",
       "      <td>5.3</td>\n",
       "      <td>14.0</td>\n",
       "      <td>999</td>\n",
       "      <td>more4 inline</td>\n",
       "      <td>160</td>\n",
       "      <td>6</td>\n",
       "      <td>4x4</td>\n",
       "      <td>rioja+la</td>\n",
       "      <td>76140</td>\n",
       "    </tr>\n",
       "    <tr>\n",
       "      <th>...</th>\n",
       "      <td>...</td>\n",
       "      <td>...</td>\n",
       "      <td>...</td>\n",
       "      <td>...</td>\n",
       "      <td>...</td>\n",
       "      <td>...</td>\n",
       "      <td>...</td>\n",
       "      <td>...</td>\n",
       "      <td>...</td>\n",
       "      <td>...</td>\n",
       "      <td>...</td>\n",
       "      <td>...</td>\n",
       "      <td>...</td>\n",
       "      <td>...</td>\n",
       "      <td>...</td>\n",
       "      <td>...</td>\n",
       "      <td>...</td>\n",
       "      <td>...</td>\n",
       "      <td>...</td>\n",
       "      <td>...</td>\n",
       "      <td>...</td>\n",
       "    </tr>\n",
       "    <tr>\n",
       "      <th>285217</th>\n",
       "      <td>6</td>\n",
       "      <td>180</td>\n",
       "      <td>51000</td>\n",
       "      <td>diesel</td>\n",
       "      <td>5</td>\n",
       "      <td>automatic</td>\n",
       "      <td>gris</td>\n",
       "      <td>jaguar</td>\n",
       "      <td>36100</td>\n",
       "      <td>565</td>\n",
       "      <td>...</td>\n",
       "      <td>5</td>\n",
       "      <td>4.6</td>\n",
       "      <td>7.1</td>\n",
       "      <td>1999</td>\n",
       "      <td>4 inline</td>\n",
       "      <td>430</td>\n",
       "      <td>8</td>\n",
       "      <td>standard</td>\n",
       "      <td>valencia</td>\n",
       "      <td>98704</td>\n",
       "    </tr>\n",
       "    <tr>\n",
       "      <th>285218</th>\n",
       "      <td>5</td>\n",
       "      <td>150</td>\n",
       "      <td>112399</td>\n",
       "      <td>diesel</td>\n",
       "      <td>5</td>\n",
       "      <td>automatic</td>\n",
       "      <td>gris</td>\n",
       "      <td>audi</td>\n",
       "      <td>28700</td>\n",
       "      <td>480</td>\n",
       "      <td>...</td>\n",
       "      <td>5</td>\n",
       "      <td>4.2</td>\n",
       "      <td>8.9</td>\n",
       "      <td>1968</td>\n",
       "      <td>4 inline</td>\n",
       "      <td>320</td>\n",
       "      <td>7</td>\n",
       "      <td>standard</td>\n",
       "      <td>valencia</td>\n",
       "      <td>87032</td>\n",
       "    </tr>\n",
       "    <tr>\n",
       "      <th>285219</th>\n",
       "      <td>6</td>\n",
       "      <td>116</td>\n",
       "      <td>62241</td>\n",
       "      <td>gasolina</td>\n",
       "      <td>4</td>\n",
       "      <td>automatic</td>\n",
       "      <td>amarillo</td>\n",
       "      <td>audi</td>\n",
       "      <td>18400</td>\n",
       "      <td>425</td>\n",
       "      <td>...</td>\n",
       "      <td>5</td>\n",
       "      <td>4.6</td>\n",
       "      <td>9.9</td>\n",
       "      <td>999</td>\n",
       "      <td>more4 inline</td>\n",
       "      <td>200</td>\n",
       "      <td>7</td>\n",
       "      <td>standard</td>\n",
       "      <td>valencia</td>\n",
       "      <td>80280</td>\n",
       "    </tr>\n",
       "    <tr>\n",
       "      <th>285220</th>\n",
       "      <td>7</td>\n",
       "      <td>69</td>\n",
       "      <td>49137</td>\n",
       "      <td>gasolina</td>\n",
       "      <td>5</td>\n",
       "      <td>manual</td>\n",
       "      <td>blanco</td>\n",
       "      <td>toyota</td>\n",
       "      <td>11155</td>\n",
       "      <td>286</td>\n",
       "      <td>...</td>\n",
       "      <td>5</td>\n",
       "      <td>4.3</td>\n",
       "      <td>15.3</td>\n",
       "      <td>998</td>\n",
       "      <td>more4 inline</td>\n",
       "      <td>93</td>\n",
       "      <td>5</td>\n",
       "      <td>standard</td>\n",
       "      <td>valencia</td>\n",
       "      <td>66130</td>\n",
       "    </tr>\n",
       "    <tr>\n",
       "      <th>285221</th>\n",
       "      <td>8</td>\n",
       "      <td>170</td>\n",
       "      <td>69220</td>\n",
       "      <td>diesel</td>\n",
       "      <td>5</td>\n",
       "      <td>automatic</td>\n",
       "      <td>gris</td>\n",
       "      <td>mercedes</td>\n",
       "      <td>23900</td>\n",
       "      <td>485</td>\n",
       "      <td>...</td>\n",
       "      <td>5</td>\n",
       "      <td>5.1</td>\n",
       "      <td>8.9</td>\n",
       "      <td>2143</td>\n",
       "      <td>4 inline</td>\n",
       "      <td>400</td>\n",
       "      <td>7</td>\n",
       "      <td>standard</td>\n",
       "      <td>valencia</td>\n",
       "      <td>81597</td>\n",
       "    </tr>\n",
       "  </tbody>\n",
       "</table>\n",
       "<p>285222 rows × 21 columns</p>\n",
       "</div>"
      ],
      "text/plain": [
       "        year   cv      km      fuel  doors    gearbox     color     brand  \\\n",
       "0          6  326   94000  gasolina      2  automatic    blanco       bmw   \n",
       "1          2  252   29187  gasolina      2     manual    blanco     other   \n",
       "2          4  150   40012  gasolina      5     manual      rojo   renault   \n",
       "3         14  224  329000    diesel      5  automatic     negro  mercedes   \n",
       "4          1   90    5450  gasolina      5     manual   naranja   renault   \n",
       "...      ...  ...     ...       ...    ...        ...       ...       ...   \n",
       "285217     6  180   51000    diesel      5  automatic      gris    jaguar   \n",
       "285218     5  150  112399    diesel      5  automatic      gris      audi   \n",
       "285219     6  116   62241  gasolina      4  automatic  amarillo      audi   \n",
       "285220     7   69   49137  gasolina      5     manual    blanco    toyota   \n",
       "285221     8  170   69220    diesel      5  automatic      gris  mercedes   \n",
       "\n",
       "        price  boot  ...  seats  cmixto  0-100  displac     cylinders max_par  \\\n",
       "0       35900   445  ...      4     6.6    5.0     2998  less4 inline     450   \n",
       "1       65450   100  ...      2     6.4    4.5     1798      4 inline     320   \n",
       "2       20950   377  ...      5     5.6    9.9     1333      4 inline     220   \n",
       "3       10900   450  ...      5     7.9    7.5     2987           6 V     540   \n",
       "4       23450   536  ...      5     5.3   14.0      999  more4 inline     160   \n",
       "...       ...   ...  ...    ...     ...    ...      ...           ...     ...   \n",
       "285217  36100   565  ...      5     4.6    7.1     1999      4 inline     430   \n",
       "285218  28700   480  ...      5     4.2    8.9     1968      4 inline     320   \n",
       "285219  18400   425  ...      5     4.6    9.9      999  more4 inline     200   \n",
       "285220  11155   286  ...      5     4.3   15.3      998  more4 inline      93   \n",
       "285221  23900   485  ...      5     5.1    8.9     2143      4 inline     400   \n",
       "\n",
       "        gear     class  location   area  \n",
       "0          8     sport  rioja+la  84912  \n",
       "1          7     sport  rioja+la  75240  \n",
       "2          6       4x4  rioja+la  73336  \n",
       "3          7       4x4  rioja+la  84258  \n",
       "4          6       4x4  rioja+la  76140  \n",
       "...      ...       ...       ...    ...  \n",
       "285217     8  standard  valencia  98704  \n",
       "285218     7  standard  valencia  87032  \n",
       "285219     7  standard  valencia  80280  \n",
       "285220     5  standard  valencia  66130  \n",
       "285221     7  standard  valencia  81597  \n",
       "\n",
       "[285222 rows x 21 columns]"
      ]
     },
     "execution_count": 4,
     "metadata": {},
     "output_type": "execute_result"
    }
   ],
   "source": [
    "cars"
   ]
  },
  {
   "cell_type": "markdown",
   "id": "b2e84ea4",
   "metadata": {},
   "source": [
    "## 4.3 Train, Test split"
   ]
  },
  {
   "cell_type": "markdown",
   "id": "b6f297e8",
   "metadata": {},
   "source": [
    "We will divide our data into three datasets. The **training** dataset will teach the model how to operate, the **cross-validation (CV)** dataset will help us optimize the parameters of the models, and finally the **test** dataset will be used to evaluate our final mode and estimate its error and accuracy."
   ]
  },
  {
   "cell_type": "code",
   "execution_count": 5,
   "id": "ca4c9933",
   "metadata": {},
   "outputs": [],
   "source": [
    "X = cars.drop('price',axis=1)\n",
    "y = cars['price']\n",
    "\n",
    "# Creating train dataset\n",
    "X_train, X_test, y_train, y_test = train_test_split(X, y, test_size=0.3)\n",
    "X_train.reset_index(drop=True,inplace=True)\n",
    "y_train.reset_index(drop=True,inplace=True)\n",
    "X_test.reset_index(drop=True,inplace=True)\n",
    "y_test.reset_index(drop=True,inplace=True)\n"
   ]
  },
  {
   "cell_type": "markdown",
   "id": "a8f2c08b",
   "metadata": {},
   "source": [
    "I split the features into numerical and categorical, so I can later normalize and one-hot encode."
   ]
  },
  {
   "cell_type": "code",
   "execution_count": 6,
   "id": "e244be69",
   "metadata": {},
   "outputs": [],
   "source": [
    "# 1. Training dataset\n",
    "X_num = X_train.select_dtypes(np.number)\n",
    "X_cat = X_train.select_dtypes(object)\n",
    "\n",
    "# 2. Test dataset\n",
    "X_num_test = X_test.select_dtypes(np.number)\n",
    "X_cat_test = X_test.select_dtypes(object)"
   ]
  },
  {
   "cell_type": "markdown",
   "id": "6e006222",
   "metadata": {},
   "source": [
    "## 4.4 Normalizing numerical features"
   ]
  },
  {
   "cell_type": "code",
   "execution_count": 7,
   "id": "5fdc8c76",
   "metadata": {},
   "outputs": [],
   "source": [
    "def std_scale(numericals, transformer):\n",
    "    normalized = []\n",
    "    for X_numerical in numericals:\n",
    "        X_normalized = transformer.transform(X_numerical)\n",
    "        X_normalized = pd.DataFrame(X_normalized, columns=X_numerical.columns)\n",
    "        normalized.append(X_normalized)\n",
    "    return normalized"
   ]
  },
  {
   "cell_type": "code",
   "execution_count": 8,
   "id": "31ca3f06",
   "metadata": {},
   "outputs": [],
   "source": [
    "# Defining normalizer\n",
    "transformer = StandardScaler().fit(X_num)\n",
    "\n",
    "# Applying normalizer\n",
    "X_norm, X_norm_test = std_scale([X_num,X_num_test], transformer)"
   ]
  },
  {
   "cell_type": "markdown",
   "id": "5090878c",
   "metadata": {},
   "source": [
    "## 4.5 Encoding categorical features"
   ]
  },
  {
   "cell_type": "code",
   "execution_count": 9,
   "id": "40c43c58",
   "metadata": {},
   "outputs": [],
   "source": [
    "def one_hot(categoricals, encoder):\n",
    "    onehots = []\n",
    "    for X_categorical in categoricals:\n",
    "        encoded = encoder.transform(X_categorical).toarray()\n",
    "        onehot_encode = pd.DataFrame(encoded,columns=encoder.get_feature_names_out(X_categorical.columns))\n",
    "        onehots.append(onehot_encode)\n",
    "    return onehots"
   ]
  },
  {
   "cell_type": "code",
   "execution_count": 10,
   "id": "458b80d8",
   "metadata": {},
   "outputs": [],
   "source": [
    "# Creating encoder\n",
    "encoder = OneHotEncoder(handle_unknown='error',drop='first').fit(X_cat)\n",
    "\n",
    "# Applying onehot-encode\n",
    "X_oh, X_oh_test = one_hot([X_cat,X_cat_test], encoder)"
   ]
  },
  {
   "cell_type": "markdown",
   "id": "eedff0d9",
   "metadata": {},
   "source": [
    "## 4.6 Concatenating back"
   ]
  },
  {
   "cell_type": "code",
   "execution_count": 11,
   "id": "ed49b6f8",
   "metadata": {},
   "outputs": [],
   "source": [
    "X_train_scaled = pd.concat([X_norm, X_oh], axis=1)\n",
    "X_test_scaled = pd.concat([X_norm_test, X_oh_test], axis=1)"
   ]
  },
  {
   "cell_type": "markdown",
   "id": "d467e699",
   "metadata": {},
   "source": [
    "## 4.7 First-glance at models"
   ]
  },
  {
   "cell_type": "code",
   "execution_count": 18,
   "id": "9bd583c2",
   "metadata": {},
   "outputs": [],
   "source": [
    "model1 = LinearRegression()\n",
    "model2 = KNeighborsRegressor()\n",
    "model3 = RandomForestRegressor()\n",
    "model4 = XGBRegressor()\n",
    "\n",
    "model_pipeline = [model1, model2, model3, model4]\n",
    "model_names = ['Linear Regression','KNN','Random Forest', 'XGBoost']\n",
    "\n",
    "scores = {}\n",
    "\n",
    "for model, model_name in zip(model_pipeline, model_names):\n",
    "    mean_score = np.mean(cross_val_score(model, X_train_scaled, y_train, cv=5))\n",
    "    scores[model_name] = mean_score"
   ]
  },
  {
   "cell_type": "code",
   "execution_count": 22,
   "id": "1449d769",
   "metadata": {},
   "outputs": [
    {
     "name": "stdout",
     "output_type": "stream",
     "text": [
      "{'Linear Regression': 0.8000673647965687, 'KNN': 0.9315656293117109, 'Random Forest': 0.9644366640322858, 'XGBoost': 0.9454349230714945}\n"
     ]
    }
   ],
   "source": [
    "print(scores)"
   ]
  },
  {
   "cell_type": "code",
   "execution_count": 41,
   "id": "27ee4e39",
   "metadata": {},
   "outputs": [
    {
     "name": "stdout",
     "output_type": "stream",
     "text": [
      "------------------------------------------------------------------------\n",
      "Training for fold 1 ...\n",
      "Epoch 1/5\n",
      "3120/3120 [==============================] - 8s 2ms/step - loss: 77793376.0000\n",
      "Epoch 2/5\n",
      "3120/3120 [==============================] - 7s 2ms/step - loss: 17474284.0000\n",
      "Epoch 3/5\n",
      "3120/3120 [==============================] - 7s 2ms/step - loss: 15024709.0000\n",
      "Epoch 4/5\n",
      "3120/3120 [==============================] - 7s 2ms/step - loss: 13736786.0000\n",
      "Epoch 5/5\n",
      "3120/3120 [==============================] - 7s 2ms/step - loss: 12793886.0000\n",
      "3120/3120 [==============================] - 3s 973us/step\n",
      "R2 for fold 1: 0.820\n",
      "------------------------------------------------------------------------\n",
      "Training for fold 2 ...\n",
      "Epoch 1/5\n",
      "3120/3120 [==============================] - 7s 2ms/step - loss: 87791712.0000\n",
      "Epoch 2/5\n",
      "3120/3120 [==============================] - 7s 2ms/step - loss: 21392250.0000\n",
      "Epoch 3/5\n",
      "3120/3120 [==============================] - 7s 2ms/step - loss: 18700814.0000\n",
      "Epoch 4/5\n",
      "3120/3120 [==============================] - 7s 2ms/step - loss: 17212228.0000\n",
      "Epoch 5/5\n",
      "3120/3120 [==============================] - 7s 2ms/step - loss: 16185805.0000\n",
      "3120/3120 [==============================] - 3s 994us/step\n",
      "R2 for fold 2: 0.858\n"
     ]
    }
   ],
   "source": [
    "# Define the K-fold Cross Validator\n",
    "kfold = KFold(n_splits=2, shuffle=True)\n",
    "\n",
    "# K-fold Cross Validation model evaluation\n",
    "fold_no = 1\n",
    "scores = []\n",
    "\n",
    "for cv_train, cv_test in kfold.split(X_train_scaled, y_train):\n",
    "    model = Sequential(\n",
    "    [\n",
    "        tf.keras.layers.Dense(64, activation = 'relu', name='L4'),\n",
    "        tf.keras.layers.Dense(1, activation = 'relu', name='L5'),\n",
    "\n",
    "    ])\n",
    "    model.compile(loss = MeanSquaredError(), optimizer = tf.keras.optimizers.Adam(learning_rate=0.01))\n",
    "        \n",
    "    # Generate a print\n",
    "    print('------------------------------------------------------------------------')\n",
    "    print(f'Training for fold {fold_no} ...')\n",
    "    \n",
    "    model.fit(X_train_scaled.loc[cv_train,:], y_train.loc[cv_train], epochs = 5)\n",
    "\n",
    "    # Generate generalization metrics\n",
    "    y_pred = model.predict(X_train_scaled.loc[cv_test,:])\n",
    "    training_error = r2_score(y_pred,y_train.loc[cv_test])\n",
    "    \n",
    "    print(f'R2 for fold {fold_no}: {training_error:.3f}')\n",
    "    scores.append(training_error)\n",
    "\n",
    "    # Increase fold number\n",
    "    fold_no = fold_no + 1\n",
    "print(f'The CV R2 score is {np.mean(scores):.3f}.')"
   ]
  },
  {
   "cell_type": "code",
   "execution_count": 44,
   "id": "8f8c83c0",
   "metadata": {},
   "outputs": [
    {
     "name": "stdout",
     "output_type": "stream",
     "text": [
      "The CV R2 score is 0.839.\n"
     ]
    }
   ],
   "source": []
  },
  {
   "cell_type": "code",
   "execution_count": 45,
   "id": "0d92afce",
   "metadata": {},
   "outputs": [
    {
     "name": "stdout",
     "output_type": "stream",
     "text": [
      "------------------------------------------------------------------------\n",
      "Training for fold 1 ...\n",
      "Epoch 1/5\n",
      "3120/3120 [==============================] - 8s 2ms/step - loss: 26403096.0000\n",
      "Epoch 2/5\n",
      "3120/3120 [==============================] - 7s 2ms/step - loss: 12704847.0000\n",
      "Epoch 3/5\n",
      "3120/3120 [==============================] - 8s 2ms/step - loss: 10537019.0000\n",
      "Epoch 4/5\n",
      "3120/3120 [==============================] - 8s 3ms/step - loss: 9539421.0000\n",
      "Epoch 5/5\n",
      "3120/3120 [==============================] - 8s 3ms/step - loss: 8596701.0000\n",
      "3120/3120 [==============================] - 3s 985us/step\n",
      "R2 for fold 1: 0.910\n",
      "------------------------------------------------------------------------\n",
      "Training for fold 2 ...\n",
      "Epoch 1/5\n",
      "3120/3120 [==============================] - 8s 2ms/step - loss: 24516888.0000\n",
      "Epoch 2/5\n",
      "3120/3120 [==============================] - 8s 2ms/step - loss: 11567074.0000\n",
      "Epoch 3/5\n",
      "3120/3120 [==============================] - 8s 3ms/step - loss: 9785153.0000\n",
      "Epoch 4/5\n",
      "3120/3120 [==============================] - 8s 2ms/step - loss: 8748250.0000\n",
      "Epoch 5/5\n",
      "3120/3120 [==============================] - 8s 2ms/step - loss: 8122039.5000\n",
      "3120/3120 [==============================] - 3s 952us/step\n",
      "R2 for fold 2: 0.904\n",
      "The CV R2 score is 0.907.\n"
     ]
    }
   ],
   "source": [
    "# Define the K-fold Cross Validator\n",
    "kfold = KFold(n_splits=2, shuffle=True)\n",
    "\n",
    "# K-fold Cross Validation model evaluation\n",
    "fold_no = 1\n",
    "scores = []\n",
    "\n",
    "for cv_train, cv_test in kfold.split(X_train_scaled, y_train):\n",
    "    model = Sequential(\n",
    "    [\n",
    "        tf.keras.layers.Dense(128, activation = 'relu', name='L1'),\n",
    "        tf.keras.layers.Dense(64, activation = 'relu', name='L4'),\n",
    "        tf.keras.layers.Dense(1, activation = 'relu', name='L5'),\n",
    "\n",
    "    ])\n",
    "    model.compile(loss = MeanSquaredError(), optimizer = tf.keras.optimizers.Adam(learning_rate=0.01))\n",
    "        \n",
    "    # Generate a print\n",
    "    print('------------------------------------------------------------------------')\n",
    "    print(f'Training for fold {fold_no} ...')\n",
    "    \n",
    "    model.fit(X_train_scaled.loc[cv_train,:], y_train.loc[cv_train], epochs = 5)\n",
    "\n",
    "    # Generate generalization metrics\n",
    "    y_pred = model.predict(X_train_scaled.loc[cv_test,:])\n",
    "    training_error = r2_score(y_pred,y_train.loc[cv_test])\n",
    "    \n",
    "    print(f'R2 for fold {fold_no}: {training_error:.3f}')\n",
    "    scores.append(training_error)\n",
    "\n",
    "    # Increase fold number\n",
    "    fold_no = fold_no + 1\n",
    "print(f'The CV R2 score is {np.mean(scores):.3f}.')"
   ]
  },
  {
   "cell_type": "code",
   "execution_count": 59,
   "id": "18a842de",
   "metadata": {
    "scrolled": false
   },
   "outputs": [
    {
     "name": "stdout",
     "output_type": "stream",
     "text": [
      "------------------------------------------------------------------------\n",
      "Training for fold 1 ...\n",
      "Epoch 1/5\n",
      "4160/4160 [==============================] - 12s 3ms/step - loss: 30435272.0000\n",
      "Epoch 2/5\n",
      "4160/4160 [==============================] - 11s 3ms/step - loss: 11258642.0000\n",
      "Epoch 3/5\n",
      "4160/4160 [==============================] - 11s 3ms/step - loss: 9594129.0000\n",
      "Epoch 4/5\n",
      "4160/4160 [==============================] - 11s 3ms/step - loss: 8490998.0000\n",
      "Epoch 5/5\n",
      "4160/4160 [==============================] - 11s 3ms/step - loss: 7657531.5000\n",
      "2080/2080 [==============================] - 2s 989us/step\n",
      "R2 for fold 1: 0.872\n",
      "------------------------------------------------------------------------\n",
      "Training for fold 2 ...\n",
      "Epoch 1/5\n",
      "4160/4160 [==============================] - 11s 3ms/step - loss: 32760426.0000\n",
      "Epoch 2/5\n",
      "4160/4160 [==============================] - 11s 3ms/step - loss: 13712922.0000\n",
      "Epoch 3/5\n",
      "4160/4160 [==============================] - 11s 3ms/step - loss: 11747593.0000\n",
      "Epoch 4/5\n",
      "4160/4160 [==============================] - 11s 3ms/step - loss: 10414745.0000\n",
      "Epoch 5/5\n",
      "4160/4160 [==============================] - 11s 3ms/step - loss: 9184221.0000\n",
      "2080/2080 [==============================] - 2s 957us/step\n",
      "R2 for fold 2: 0.921\n",
      "------------------------------------------------------------------------\n",
      "Training for fold 3 ...\n",
      "Epoch 1/5\n",
      "4160/4160 [==============================] - 12s 3ms/step - loss: 32592228.0000\n",
      "Epoch 2/5\n",
      "4160/4160 [==============================] - 11s 3ms/step - loss: 13869946.0000\n",
      "Epoch 3/5\n",
      "4160/4160 [==============================] - 11s 3ms/step - loss: 11676792.0000\n",
      "Epoch 4/5\n",
      "4160/4160 [==============================] - 11s 3ms/step - loss: 10096066.0000\n",
      "Epoch 5/5\n",
      "4160/4160 [==============================] - 11s 3ms/step - loss: 9242846.0000\n",
      "2080/2080 [==============================] - 2s 971us/step\n",
      "R2 for fold 3: 0.924\n",
      "The CV R2 score is 0.905.\n"
     ]
    }
   ],
   "source": [
    "# Define the K-fold Cross Validator\n",
    "kfold = KFold(n_splits=3, shuffle=True)\n",
    "\n",
    "# K-fold Cross Validation model evaluation\n",
    "fold_no = 1\n",
    "scores = []\n",
    "\n",
    "for cv_train, cv_test in kfold.split(X_train_scaled, y_train):\n",
    "    model = Sequential(\n",
    "    [\n",
    "        tf.keras.layers.Dense(256, activation = 'relu', name='L1'),\n",
    "        tf.keras.layers.Dense(128, activation = 'relu', name='L2'),\n",
    "        tf.keras.layers.Dense(64, activation = 'relu', name='L4'),\n",
    "        tf.keras.layers.Dense(1, activation = 'relu', name='L5'),\n",
    "\n",
    "    ])\n",
    "    model.compile(loss = MeanSquaredError(), optimizer = tf.keras.optimizers.Adam(learning_rate=0.01))\n",
    "        \n",
    "    # Generate a print\n",
    "    print('------------------------------------------------------------------------')\n",
    "    print(f'Training for fold {fold_no} ...')\n",
    "    \n",
    "    model.fit(X_train_scaled.loc[cv_train,:], y_train.loc[cv_train], epochs = 5)\n",
    "\n",
    "    # Generate generalization metrics\n",
    "    y_pred = model.predict(X_train_scaled.loc[cv_test,:])\n",
    "    training_error = r2_score(y_pred,y_train.loc[cv_test])\n",
    "    \n",
    "    print(f'R2 for fold {fold_no}: {training_error:.3f}')\n",
    "    scores.append(training_error)\n",
    "\n",
    "    # Increase fold number\n",
    "    fold_no = fold_no + 1\n",
    "print(f'The CV R2 score is {np.mean(scores):.3f}.')"
   ]
  },
  {
   "cell_type": "markdown",
   "id": "576a1ba5",
   "metadata": {},
   "source": [
    "## 4.8 Hyperparameter optimization"
   ]
  },
  {
   "cell_type": "markdown",
   "id": "1a0f02af",
   "metadata": {},
   "source": [
    "## 4.7 Training models & evaluation"
   ]
  },
  {
   "cell_type": "code",
   "execution_count": null,
   "id": "88f40de6",
   "metadata": {
    "scrolled": false
   },
   "outputs": [],
   "source": [
    "lmbd = 0\n",
    "model1 = LinearRegression()\n",
    "model2 = KNeighborsRegressor()\n",
    "model3 = DecisionTreeRegressor()\n",
    "model4 = RandomForestRegressor()\n",
    "model5 = XGBRegressor()\n",
    "model6 = Sequential(\n",
    "[\n",
    "    tf.keras.layers.Dense(2048, activation = 'relu', name='L1', kernel_regularizer=L2(lmbd)),\n",
    "    tf.keras.layers.Dense(2048, activation = 'relu', name='L2', kernel_regularizer=L2(lmbd)),\n",
    "    tf.keras.layers.Dense(1, activation = 'relu', name='L7'),\n",
    "\n",
    "]\n",
    ")\n",
    "model6.compile(loss = MeanSquaredError(),optimizer = tf.keras.optimizers.Adam(learning_rate=0.01))\n",
    "model_pipeline = [model1,  model4, model6, model5,]\n",
    "model_names = ['Linear Regression', 'RandomForest', 'NeuralNetwork' ,'XGBoost']\n",
    "\n",
    "scores = {}\n",
    "for model, model_name in zip(model_pipeline, model_names):\n",
    "    print('Working with model '+model_name)\n",
    "    \n",
    "    # Fitting the model\n",
    "    if model_name == 'NeuralNetwork':\n",
    "        model.fit(X_train_scaled, y_train, epochs = 30)\n",
    "    else:\n",
    "        model.fit(X_train_scaled, y_train)\n",
    "    y_pred = model.predict(X_train_scaled)\n",
    "    training_error = r2_score(y_pred,y_train)\n",
    "    \n",
    "    y_pred_cv = model.predict(X_cv_scaled)\n",
    "    cv_error = r2_score(y_pred_cv,y_cv)\n",
    "    scores[model_name] = [round(training_error,3), round(cv_error,3)]\n",
    "    \n",
    "print(scores)\n",
    "# We can use the result to choose the best performing model"
   ]
  },
  {
   "cell_type": "markdown",
   "id": "49c68696",
   "metadata": {},
   "source": [
    "## 4.7 Hyperparameter search"
   ]
  },
  {
   "cell_type": "markdown",
   "id": "e3153d0b",
   "metadata": {},
   "source": [
    "### 4.7.1 Random Forest"
   ]
  },
  {
   "cell_type": "code",
   "execution_count": null,
   "id": "f9731443",
   "metadata": {},
   "outputs": [],
   "source": [
    "# from sklearn.model_selection import RandomizedSearchCV\n",
    "\n",
    "max_depth_choices= [5,10,None]\n",
    "criterion_choices = ['squared_error','absolute_error']\n",
    "min_samples_split_choices = [4,10]\n",
    "min_samples_leaf_choices = [4,10]\n",
    "\n",
    "random_grid = {'max_depth': max_depth_choices,\n",
    "'criterion': criterion_choices,\n",
    "'min_samples_split': min_samples_split_choices,\n",
    "'min_samples_leaf': min_samples_leaf_choices}\n",
    "\n",
    "# Instantiate the grid search model object\n",
    "# estimator -> model to optimize\n",
    "model = RandomForestRegressor()\n",
    "\n",
    "#and now more realistic\n",
    "model = DecisionTreeRegressor()\n",
    "random_search = RandomizedSearchCV(estimator = model, param_distributions = random_grid, n_iter=12, cv = 5, n_jobs = 8)\n",
    "\n",
    "random_search.fit(X_train_scaled,y_train)"
   ]
  },
  {
   "cell_type": "code",
   "execution_count": null,
   "id": "43246d1f",
   "metadata": {},
   "outputs": [],
   "source": [
    "random_search.best_params_"
   ]
  },
  {
   "cell_type": "code",
   "execution_count": null,
   "id": "badeef46",
   "metadata": {},
   "outputs": [],
   "source": [
    "print(f'The best score (R2={random_search.best_score_:.2f}) corresponds to the parameters {random_search.best_params_}.')"
   ]
  },
  {
   "cell_type": "markdown",
   "id": "7c16cfbd",
   "metadata": {},
   "source": [
    "The best score (R2=0.94) corresponds to the parameters {'min_samples_split': 4, 'min_samples_leaf': 4, 'max_depth': None, 'criterion': 'squared_error'}."
   ]
  },
  {
   "cell_type": "markdown",
   "id": "af794502",
   "metadata": {},
   "source": [
    "# 4.7.2 XGBoost"
   ]
  },
  {
   "cell_type": "code",
   "execution_count": 13,
   "id": "9134fba6",
   "metadata": {},
   "outputs": [
    {
     "data": {
      "text/html": [
       "<style>#sk-container-id-1 {color: black;background-color: white;}#sk-container-id-1 pre{padding: 0;}#sk-container-id-1 div.sk-toggleable {background-color: white;}#sk-container-id-1 label.sk-toggleable__label {cursor: pointer;display: block;width: 100%;margin-bottom: 0;padding: 0.3em;box-sizing: border-box;text-align: center;}#sk-container-id-1 label.sk-toggleable__label-arrow:before {content: \"▸\";float: left;margin-right: 0.25em;color: #696969;}#sk-container-id-1 label.sk-toggleable__label-arrow:hover:before {color: black;}#sk-container-id-1 div.sk-estimator:hover label.sk-toggleable__label-arrow:before {color: black;}#sk-container-id-1 div.sk-toggleable__content {max-height: 0;max-width: 0;overflow: hidden;text-align: left;background-color: #f0f8ff;}#sk-container-id-1 div.sk-toggleable__content pre {margin: 0.2em;color: black;border-radius: 0.25em;background-color: #f0f8ff;}#sk-container-id-1 input.sk-toggleable__control:checked~div.sk-toggleable__content {max-height: 200px;max-width: 100%;overflow: auto;}#sk-container-id-1 input.sk-toggleable__control:checked~label.sk-toggleable__label-arrow:before {content: \"▾\";}#sk-container-id-1 div.sk-estimator input.sk-toggleable__control:checked~label.sk-toggleable__label {background-color: #d4ebff;}#sk-container-id-1 div.sk-label input.sk-toggleable__control:checked~label.sk-toggleable__label {background-color: #d4ebff;}#sk-container-id-1 input.sk-hidden--visually {border: 0;clip: rect(1px 1px 1px 1px);clip: rect(1px, 1px, 1px, 1px);height: 1px;margin: -1px;overflow: hidden;padding: 0;position: absolute;width: 1px;}#sk-container-id-1 div.sk-estimator {font-family: monospace;background-color: #f0f8ff;border: 1px dotted black;border-radius: 0.25em;box-sizing: border-box;margin-bottom: 0.5em;}#sk-container-id-1 div.sk-estimator:hover {background-color: #d4ebff;}#sk-container-id-1 div.sk-parallel-item::after {content: \"\";width: 100%;border-bottom: 1px solid gray;flex-grow: 1;}#sk-container-id-1 div.sk-label:hover label.sk-toggleable__label {background-color: #d4ebff;}#sk-container-id-1 div.sk-serial::before {content: \"\";position: absolute;border-left: 1px solid gray;box-sizing: border-box;top: 0;bottom: 0;left: 50%;z-index: 0;}#sk-container-id-1 div.sk-serial {display: flex;flex-direction: column;align-items: center;background-color: white;padding-right: 0.2em;padding-left: 0.2em;position: relative;}#sk-container-id-1 div.sk-item {position: relative;z-index: 1;}#sk-container-id-1 div.sk-parallel {display: flex;align-items: stretch;justify-content: center;background-color: white;position: relative;}#sk-container-id-1 div.sk-item::before, #sk-container-id-1 div.sk-parallel-item::before {content: \"\";position: absolute;border-left: 1px solid gray;box-sizing: border-box;top: 0;bottom: 0;left: 50%;z-index: -1;}#sk-container-id-1 div.sk-parallel-item {display: flex;flex-direction: column;z-index: 1;position: relative;background-color: white;}#sk-container-id-1 div.sk-parallel-item:first-child::after {align-self: flex-end;width: 50%;}#sk-container-id-1 div.sk-parallel-item:last-child::after {align-self: flex-start;width: 50%;}#sk-container-id-1 div.sk-parallel-item:only-child::after {width: 0;}#sk-container-id-1 div.sk-dashed-wrapped {border: 1px dashed gray;margin: 0 0.4em 0.5em 0.4em;box-sizing: border-box;padding-bottom: 0.4em;background-color: white;}#sk-container-id-1 div.sk-label label {font-family: monospace;font-weight: bold;display: inline-block;line-height: 1.2em;}#sk-container-id-1 div.sk-label-container {text-align: center;}#sk-container-id-1 div.sk-container {/* jupyter's `normalize.less` sets `[hidden] { display: none; }` but bootstrap.min.css set `[hidden] { display: none !important; }` so we also need the `!important` here to be able to override the default hidden behavior on the sphinx rendered scikit-learn.org. See: https://github.com/scikit-learn/scikit-learn/issues/21755 */display: inline-block !important;position: relative;}#sk-container-id-1 div.sk-text-repr-fallback {display: none;}</style><div id=\"sk-container-id-1\" class=\"sk-top-container\"><div class=\"sk-text-repr-fallback\"><pre>RandomizedSearchCV(cv=5,\n",
       "                   estimator=XGBRegressor(base_score=None, booster=None,\n",
       "                                          callbacks=None,\n",
       "                                          colsample_bylevel=None,\n",
       "                                          colsample_bynode=None,\n",
       "                                          colsample_bytree=None,\n",
       "                                          early_stopping_rounds=None,\n",
       "                                          enable_categorical=False,\n",
       "                                          eval_metric=None, feature_types=None,\n",
       "                                          gamma=None, gpu_id=None,\n",
       "                                          grow_policy=None,\n",
       "                                          importance_type=None,\n",
       "                                          interaction_constraints=None,\n",
       "                                          learning_rate=...\n",
       "       0.23, 0.24, 0.25, 0.26, 0.27, 0.28, 0.29, 0.3 , 0.31, 0.32, 0.33,\n",
       "       0.34, 0.35, 0.36, 0.37, 0.38, 0.39, 0.4 , 0.41, 0.42, 0.43, 0.44,\n",
       "       0.45, 0.46, 0.47, 0.48, 0.49, 0.5 , 0.51, 0.52, 0.53, 0.54, 0.55,\n",
       "       0.56, 0.57, 0.58, 0.59, 0.6 , 0.61, 0.62, 0.63, 0.64, 0.65, 0.66,\n",
       "       0.67, 0.68, 0.69, 0.7 , 0.71, 0.72, 0.73, 0.74, 0.75, 0.76, 0.77,\n",
       "       0.78, 0.79, 0.8 , 0.81, 0.82, 0.83, 0.84, 0.85, 0.86, 0.87, 0.88,\n",
       "       0.89, 0.9 , 0.91, 0.92, 0.93, 0.94, 0.95, 0.96, 0.97, 0.98, 0.99])})</pre><b>In a Jupyter environment, please rerun this cell to show the HTML representation or trust the notebook. <br />On GitHub, the HTML representation is unable to render, please try loading this page with nbviewer.org.</b></div><div class=\"sk-container\" hidden><div class=\"sk-item sk-dashed-wrapped\"><div class=\"sk-label-container\"><div class=\"sk-label sk-toggleable\"><input class=\"sk-toggleable__control sk-hidden--visually\" id=\"sk-estimator-id-1\" type=\"checkbox\" ><label for=\"sk-estimator-id-1\" class=\"sk-toggleable__label sk-toggleable__label-arrow\">RandomizedSearchCV</label><div class=\"sk-toggleable__content\"><pre>RandomizedSearchCV(cv=5,\n",
       "                   estimator=XGBRegressor(base_score=None, booster=None,\n",
       "                                          callbacks=None,\n",
       "                                          colsample_bylevel=None,\n",
       "                                          colsample_bynode=None,\n",
       "                                          colsample_bytree=None,\n",
       "                                          early_stopping_rounds=None,\n",
       "                                          enable_categorical=False,\n",
       "                                          eval_metric=None, feature_types=None,\n",
       "                                          gamma=None, gpu_id=None,\n",
       "                                          grow_policy=None,\n",
       "                                          importance_type=None,\n",
       "                                          interaction_constraints=None,\n",
       "                                          learning_rate=...\n",
       "       0.23, 0.24, 0.25, 0.26, 0.27, 0.28, 0.29, 0.3 , 0.31, 0.32, 0.33,\n",
       "       0.34, 0.35, 0.36, 0.37, 0.38, 0.39, 0.4 , 0.41, 0.42, 0.43, 0.44,\n",
       "       0.45, 0.46, 0.47, 0.48, 0.49, 0.5 , 0.51, 0.52, 0.53, 0.54, 0.55,\n",
       "       0.56, 0.57, 0.58, 0.59, 0.6 , 0.61, 0.62, 0.63, 0.64, 0.65, 0.66,\n",
       "       0.67, 0.68, 0.69, 0.7 , 0.71, 0.72, 0.73, 0.74, 0.75, 0.76, 0.77,\n",
       "       0.78, 0.79, 0.8 , 0.81, 0.82, 0.83, 0.84, 0.85, 0.86, 0.87, 0.88,\n",
       "       0.89, 0.9 , 0.91, 0.92, 0.93, 0.94, 0.95, 0.96, 0.97, 0.98, 0.99])})</pre></div></div></div><div class=\"sk-parallel\"><div class=\"sk-parallel-item\"><div class=\"sk-item\"><div class=\"sk-label-container\"><div class=\"sk-label sk-toggleable\"><input class=\"sk-toggleable__control sk-hidden--visually\" id=\"sk-estimator-id-2\" type=\"checkbox\" ><label for=\"sk-estimator-id-2\" class=\"sk-toggleable__label sk-toggleable__label-arrow\">estimator: XGBRegressor</label><div class=\"sk-toggleable__content\"><pre>XGBRegressor(base_score=None, booster=None, callbacks=None,\n",
       "             colsample_bylevel=None, colsample_bynode=None,\n",
       "             colsample_bytree=None, early_stopping_rounds=None,\n",
       "             enable_categorical=False, eval_metric=None, feature_types=None,\n",
       "             gamma=None, gpu_id=None, grow_policy=None, importance_type=None,\n",
       "             interaction_constraints=None, learning_rate=None, max_bin=None,\n",
       "             max_cat_threshold=None, max_cat_to_onehot=None,\n",
       "             max_delta_step=None, max_depth=None, max_leaves=None,\n",
       "             min_child_weight=None, missing=nan, monotone_constraints=None,\n",
       "             n_estimators=100, n_jobs=None, num_parallel_tree=None,\n",
       "             predictor=None, random_state=None, ...)</pre></div></div></div><div class=\"sk-serial\"><div class=\"sk-item\"><div class=\"sk-estimator sk-toggleable\"><input class=\"sk-toggleable__control sk-hidden--visually\" id=\"sk-estimator-id-3\" type=\"checkbox\" ><label for=\"sk-estimator-id-3\" class=\"sk-toggleable__label sk-toggleable__label-arrow\">XGBRegressor</label><div class=\"sk-toggleable__content\"><pre>XGBRegressor(base_score=None, booster=None, callbacks=None,\n",
       "             colsample_bylevel=None, colsample_bynode=None,\n",
       "             colsample_bytree=None, early_stopping_rounds=None,\n",
       "             enable_categorical=False, eval_metric=None, feature_types=None,\n",
       "             gamma=None, gpu_id=None, grow_policy=None, importance_type=None,\n",
       "             interaction_constraints=None, learning_rate=None, max_bin=None,\n",
       "             max_cat_threshold=None, max_cat_to_onehot=None,\n",
       "             max_delta_step=None, max_depth=None, max_leaves=None,\n",
       "             min_child_weight=None, missing=nan, monotone_constraints=None,\n",
       "             n_estimators=100, n_jobs=None, num_parallel_tree=None,\n",
       "             predictor=None, random_state=None, ...)</pre></div></div></div></div></div></div></div></div></div></div>"
      ],
      "text/plain": [
       "RandomizedSearchCV(cv=5,\n",
       "                   estimator=XGBRegressor(base_score=None, booster=None,\n",
       "                                          callbacks=None,\n",
       "                                          colsample_bylevel=None,\n",
       "                                          colsample_bynode=None,\n",
       "                                          colsample_bytree=None,\n",
       "                                          early_stopping_rounds=None,\n",
       "                                          enable_categorical=False,\n",
       "                                          eval_metric=None, feature_types=None,\n",
       "                                          gamma=None, gpu_id=None,\n",
       "                                          grow_policy=None,\n",
       "                                          importance_type=None,\n",
       "                                          interaction_constraints=None,\n",
       "                                          learning_rate=...\n",
       "       0.23, 0.24, 0.25, 0.26, 0.27, 0.28, 0.29, 0.3 , 0.31, 0.32, 0.33,\n",
       "       0.34, 0.35, 0.36, 0.37, 0.38, 0.39, 0.4 , 0.41, 0.42, 0.43, 0.44,\n",
       "       0.45, 0.46, 0.47, 0.48, 0.49, 0.5 , 0.51, 0.52, 0.53, 0.54, 0.55,\n",
       "       0.56, 0.57, 0.58, 0.59, 0.6 , 0.61, 0.62, 0.63, 0.64, 0.65, 0.66,\n",
       "       0.67, 0.68, 0.69, 0.7 , 0.71, 0.72, 0.73, 0.74, 0.75, 0.76, 0.77,\n",
       "       0.78, 0.79, 0.8 , 0.81, 0.82, 0.83, 0.84, 0.85, 0.86, 0.87, 0.88,\n",
       "       0.89, 0.9 , 0.91, 0.92, 0.93, 0.94, 0.95, 0.96, 0.97, 0.98, 0.99])})"
      ]
     },
     "execution_count": 13,
     "metadata": {},
     "output_type": "execute_result"
    }
   ],
   "source": [
    "# from sklearn.model_selection import RandomizedSearchCV\n",
    "\n",
    "param_grid = {\n",
    "        'max_depth': [3, 7, 11, None],\n",
    "        'min_child_weight': np.arange(0.0001, 0.5, 0.1),\n",
    "        'learning_rate': np.arange(0.0005,0.3,0.05),\n",
    "        'subsample': np.arange(0.01,1.0,0.01),\n",
    "        'colsample_bylevel': np.round(np.arange(0.1,1.0,0.1)),\n",
    "        'colsample_bytree': np.arange(0.1,1.0,0.1),\n",
    "}\n",
    "\n",
    "# Instantiate the grid search model object\n",
    "# estimator -> model to optimize\n",
    "model = XGBRegressor()\n",
    "\n",
    "random_search = RandomizedSearchCV(estimator = model, param_distributions = param_grid, n_iter=50, cv = 5, n_jobs = 8)\n",
    "\n",
    "random_search.fit(X_train_scaled,y_train)"
   ]
  },
  {
   "cell_type": "code",
   "execution_count": 14,
   "id": "45c4d717",
   "metadata": {},
   "outputs": [
    {
     "data": {
      "text/plain": [
       "{'subsample': 0.52,\n",
       " 'min_child_weight': 0.4001,\n",
       " 'max_depth': 11,\n",
       " 'learning_rate': 0.2505,\n",
       " 'colsample_bytree': 0.9,\n",
       " 'colsample_bylevel': 1.0}"
      ]
     },
     "execution_count": 14,
     "metadata": {},
     "output_type": "execute_result"
    }
   ],
   "source": [
    "random_search.best_params_"
   ]
  },
  {
   "cell_type": "code",
   "execution_count": 15,
   "id": "f27ee341",
   "metadata": {},
   "outputs": [
    {
     "data": {
      "text/plain": [
       "0.9610301120274907"
      ]
     },
     "execution_count": 15,
     "metadata": {},
     "output_type": "execute_result"
    }
   ],
   "source": [
    "random_search.best_score_"
   ]
  },
  {
   "cell_type": "code",
   "execution_count": 16,
   "id": "ab9c3ffd",
   "metadata": {},
   "outputs": [],
   "source": [
    "model = XGBRegressor(**random_search.best_params_)\n",
    "\n",
    "XGB_topscore = np.mean(cross_val_score(model, X_train_scaled, y_train, cv=3))"
   ]
  },
  {
   "cell_type": "code",
   "execution_count": 17,
   "id": "2245ff68",
   "metadata": {},
   "outputs": [
    {
     "data": {
      "text/plain": [
       "0.9571179327361223"
      ]
     },
     "execution_count": 17,
     "metadata": {},
     "output_type": "execute_result"
    }
   ],
   "source": [
    "XGB_topscore"
   ]
  },
  {
   "cell_type": "code",
   "execution_count": 19,
   "id": "ec688f45",
   "metadata": {},
   "outputs": [
    {
     "data": {
      "text/plain": [
       "0.9571853208535602"
      ]
     },
     "execution_count": 19,
     "metadata": {},
     "output_type": "execute_result"
    }
   ],
   "source": [
    "model = RandomForestRegressor(**{'min_samples_split': 4, 'min_samples_leaf': 4, 'max_depth': None, 'criterion': 'squared_error'})\n",
    "np.mean(cross_val_score(model, X_train_scaled, y_train, cv=3))"
   ]
  },
  {
   "cell_type": "code",
   "execution_count": null,
   "id": "d53afe0b",
   "metadata": {},
   "outputs": [],
   "source": []
  },
  {
   "cell_type": "code",
   "execution_count": null,
   "id": "5be59fa9",
   "metadata": {},
   "outputs": [],
   "source": [
    "# in grid search you are more likely to get really good results in your training set, even with CV\n",
    "grid_search.best_score_"
   ]
  },
  {
   "cell_type": "code",
   "execution_count": null,
   "id": "e619f8c5",
   "metadata": {},
   "outputs": [],
   "source": [
    "np.round(y_pred_cv,0).flatten()"
   ]
  },
  {
   "cell_type": "code",
   "execution_count": null,
   "id": "03be4a61",
   "metadata": {},
   "outputs": [],
   "source": [
    "error =int((abs(np.round(y_pred_cv,0).flatten()-y_cv)/np.round(y_pred_cv,0).flatten()*100).astype(int).values.mean())\n",
    "std = int((abs(np.round(y_pred_cv,0).flatten()-y_cv)/np.round(y_pred_cv,0).flatten()*100).astype(int).values.std())\n",
    "print('The error is ',error,'±',2*std)"
   ]
  },
  {
   "cell_type": "code",
   "execution_count": null,
   "id": "31c45ea2",
   "metadata": {},
   "outputs": [],
   "source": [
    "# <!> I could try to use log or sqrt of some qualities like cv and more that seem to over emphasize \n",
    "# the price of high values."
   ]
  },
  {
   "cell_type": "code",
   "execution_count": null,
   "id": "5bc51028",
   "metadata": {},
   "outputs": [],
   "source": [
    "(np.round(y_pred_cv,0).flatten()-y_cv).astype(int).values[abs(np.round(y_pred_cv,0).flatten()-y_cv).astype(int).values>6000].mean()"
   ]
  },
  {
   "cell_type": "code",
   "execution_count": null,
   "id": "2dda761e",
   "metadata": {},
   "outputs": [],
   "source": [
    "(X_cv[abs(np.round(y_pred_cv,0).flatten()-y_cv).astype(int).values>6000]).describe().T"
   ]
  },
  {
   "cell_type": "code",
   "execution_count": null,
   "id": "3b94d7b0",
   "metadata": {},
   "outputs": [],
   "source": [
    "(X_cv[abs(np.round(y_pred_cv,0)-y_cv).astype(int).values<6000]).describe().T"
   ]
  },
  {
   "cell_type": "code",
   "execution_count": null,
   "id": "9ce26ea6",
   "metadata": {},
   "outputs": [],
   "source": [
    "abs(np.round(y_pred_cv,0)-y_cv).astype(int).values"
   ]
  },
  {
   "cell_type": "code",
   "execution_count": null,
   "id": "6fe10073",
   "metadata": {},
   "outputs": [],
   "source": [
    "ca"
   ]
  },
  {
   "cell_type": "code",
   "execution_count": null,
   "id": "8566962d",
   "metadata": {},
   "outputs": [],
   "source": []
  },
  {
   "cell_type": "code",
   "execution_count": null,
   "id": "04ee975a",
   "metadata": {},
   "outputs": [],
   "source": [
    "a = 'marchas'"
   ]
  },
  {
   "cell_type": "code",
   "execution_count": null,
   "id": "fd906159",
   "metadata": {},
   "outputs": [],
   "source": [
    "round(len(X_cv[X_cv[a]==0.])/X_cv.shape[0]*100,3)"
   ]
  },
  {
   "cell_type": "code",
   "execution_count": null,
   "id": "26d158aa",
   "metadata": {},
   "outputs": [],
   "source": [
    "round(len(X_train[X_train[a]==0.])/X_train.shape[0]*100,3)"
   ]
  },
  {
   "cell_type": "code",
   "execution_count": null,
   "id": "d17330a0",
   "metadata": {},
   "outputs": [],
   "source": [
    "X_cv[a]==0"
   ]
  },
  {
   "cell_type": "code",
   "execution_count": null,
   "id": "736baf87",
   "metadata": {},
   "outputs": [],
   "source": []
  },
  {
   "cell_type": "code",
   "execution_count": null,
   "id": "4c97176b",
   "metadata": {},
   "outputs": [],
   "source": []
  }
 ],
 "metadata": {
  "kernelspec": {
   "display_name": "tfgpu",
   "language": "python",
   "name": "tfgpu"
  },
  "language_info": {
   "codemirror_mode": {
    "name": "ipython",
    "version": 3
   },
   "file_extension": ".py",
   "mimetype": "text/x-python",
   "name": "python",
   "nbconvert_exporter": "python",
   "pygments_lexer": "ipython3",
   "version": "3.9.16"
  }
 },
 "nbformat": 4,
 "nbformat_minor": 5
}
